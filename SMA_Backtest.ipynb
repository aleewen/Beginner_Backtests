{
 "cells": [
  {
   "cell_type": "code",
   "execution_count": 61,
   "metadata": {},
   "outputs": [],
   "source": [
    "import yfinance as yf\n",
    "import statistics as stats\n",
    "import pandas as pd\n",
    "import matplotlib.pyplot as plt\n",
    "from statistics import mean, stdev, median\n",
    "from scipy.stats import kurtosis\n",
    "from datetime import date\n",
    "from datetime import datetime"
   ]
  },
  {
   "cell_type": "code",
   "execution_count": 5,
   "metadata": {},
   "outputs": [],
   "source": [
    "# Input the ticker to be analyzed, it's starting date (\"YYY-MM-DD\"), timeframe, and other settings\n",
    "symbol = \"SPY\"                      # Equity or ETF ticker to pull from YahooFinance\n",
    "startDate = \"2003-01-01\"            # Specify start date as a string \"YYY-MM-DD\"\n",
    "endDate = date.today()              # Specify end date: date.today(), otherwise a string \"YYY-MM'DD\"\n",
    "timeframe = \"1d\"                    # Specify timeframe: 1m, 2m, 5m, 15m, 30m, 60m, 90m, 1h, 1d, 5d, 1wk, 1mo, 3mo\n",
    "\n",
    "MAperiods = 50                      # Simple Moving Average"
   ]
  },
  {
   "cell_type": "code",
   "execution_count": 6,
   "metadata": {},
   "outputs": [],
   "source": [
    "# Parse the start and end dates into a date object\n",
    "startDate = datetime.strptime(startDate, '%Y-%m-%d').date()\n",
    "\n",
    "if type(endDate) == str:\n",
    "    endDate = datetime.strptime(endDate, '%Y-%m-%d').date()"
   ]
  },
  {
   "cell_type": "code",
   "execution_count": 7,
   "metadata": {},
   "outputs": [
    {
     "name": "stdout",
     "output_type": "stream",
     "text": [
      "[*********************100%***********************]  1 of 1 completed\n"
     ]
    }
   ],
   "source": [
    "# Get the data\n",
    "tickerData = yf.download(symbol, interval = timeframe, period = \"max\", end = endDate)"
   ]
  },
  {
   "cell_type": "code",
   "execution_count": 8,
   "metadata": {},
   "outputs": [],
   "source": [
    "# Calculate the Simple Moving Average (SMA)\n",
    "tickerData['SMA'] = tickerData['Close'].rolling(MAperiods).mean()"
   ]
  },
  {
   "cell_type": "code",
   "execution_count": 9,
   "metadata": {},
   "outputs": [
    {
     "data": {
      "text/html": [
       "<div>\n",
       "<style scoped>\n",
       "    .dataframe tbody tr th:only-of-type {\n",
       "        vertical-align: middle;\n",
       "    }\n",
       "\n",
       "    .dataframe tbody tr th {\n",
       "        vertical-align: top;\n",
       "    }\n",
       "\n",
       "    .dataframe thead th {\n",
       "        text-align: right;\n",
       "    }\n",
       "</style>\n",
       "<table border=\"1\" class=\"dataframe\">\n",
       "  <thead>\n",
       "    <tr style=\"text-align: right;\">\n",
       "      <th></th>\n",
       "      <th>Open</th>\n",
       "      <th>High</th>\n",
       "      <th>Low</th>\n",
       "      <th>Close</th>\n",
       "      <th>Adj Close</th>\n",
       "      <th>Volume</th>\n",
       "      <th>SMA</th>\n",
       "    </tr>\n",
       "    <tr>\n",
       "      <th>Date</th>\n",
       "      <th></th>\n",
       "      <th></th>\n",
       "      <th></th>\n",
       "      <th></th>\n",
       "      <th></th>\n",
       "      <th></th>\n",
       "      <th></th>\n",
       "    </tr>\n",
       "  </thead>\n",
       "  <tbody>\n",
       "    <tr>\n",
       "      <th>2003-01-02</th>\n",
       "      <td>88.849998</td>\n",
       "      <td>91.300003</td>\n",
       "      <td>88.540001</td>\n",
       "      <td>91.070000</td>\n",
       "      <td>62.859005</td>\n",
       "      <td>44516300</td>\n",
       "      <td>90.653400</td>\n",
       "    </tr>\n",
       "    <tr>\n",
       "      <th>2003-01-03</th>\n",
       "      <td>90.910004</td>\n",
       "      <td>91.379997</td>\n",
       "      <td>90.500000</td>\n",
       "      <td>91.349998</td>\n",
       "      <td>63.052292</td>\n",
       "      <td>32222600</td>\n",
       "      <td>90.690000</td>\n",
       "    </tr>\n",
       "    <tr>\n",
       "      <th>2003-01-06</th>\n",
       "      <td>91.239998</td>\n",
       "      <td>93.489998</td>\n",
       "      <td>91.169998</td>\n",
       "      <td>92.959999</td>\n",
       "      <td>64.163544</td>\n",
       "      <td>40984500</td>\n",
       "      <td>90.745200</td>\n",
       "    </tr>\n",
       "    <tr>\n",
       "      <th>2003-01-07</th>\n",
       "      <td>92.900002</td>\n",
       "      <td>93.370003</td>\n",
       "      <td>92.199997</td>\n",
       "      <td>92.730003</td>\n",
       "      <td>64.004799</td>\n",
       "      <td>38640400</td>\n",
       "      <td>90.832600</td>\n",
       "    </tr>\n",
       "    <tr>\n",
       "      <th>2003-01-08</th>\n",
       "      <td>92.199997</td>\n",
       "      <td>92.400002</td>\n",
       "      <td>91.050003</td>\n",
       "      <td>91.389999</td>\n",
       "      <td>63.079903</td>\n",
       "      <td>38702200</td>\n",
       "      <td>90.856400</td>\n",
       "    </tr>\n",
       "    <tr>\n",
       "      <th>...</th>\n",
       "      <td>...</td>\n",
       "      <td>...</td>\n",
       "      <td>...</td>\n",
       "      <td>...</td>\n",
       "      <td>...</td>\n",
       "      <td>...</td>\n",
       "      <td>...</td>\n",
       "    </tr>\n",
       "    <tr>\n",
       "      <th>2022-04-04</th>\n",
       "      <td>453.130005</td>\n",
       "      <td>456.910004</td>\n",
       "      <td>452.260010</td>\n",
       "      <td>456.799988</td>\n",
       "      <td>456.799988</td>\n",
       "      <td>59601000</td>\n",
       "      <td>440.527403</td>\n",
       "    </tr>\n",
       "    <tr>\n",
       "      <th>2022-04-05</th>\n",
       "      <td>455.220001</td>\n",
       "      <td>457.829987</td>\n",
       "      <td>449.820007</td>\n",
       "      <td>451.029999</td>\n",
       "      <td>451.029999</td>\n",
       "      <td>74214500</td>\n",
       "      <td>440.751203</td>\n",
       "    </tr>\n",
       "    <tr>\n",
       "      <th>2022-04-06</th>\n",
       "      <td>446.890015</td>\n",
       "      <td>448.929993</td>\n",
       "      <td>443.470001</td>\n",
       "      <td>446.519989</td>\n",
       "      <td>446.519989</td>\n",
       "      <td>106898000</td>\n",
       "      <td>440.992203</td>\n",
       "    </tr>\n",
       "    <tr>\n",
       "      <th>2022-04-07</th>\n",
       "      <td>445.589996</td>\n",
       "      <td>450.690002</td>\n",
       "      <td>443.529999</td>\n",
       "      <td>448.769989</td>\n",
       "      <td>448.769989</td>\n",
       "      <td>78097200</td>\n",
       "      <td>441.300002</td>\n",
       "    </tr>\n",
       "    <tr>\n",
       "      <th>2022-04-08</th>\n",
       "      <td>447.970001</td>\n",
       "      <td>450.630005</td>\n",
       "      <td>445.940002</td>\n",
       "      <td>447.570007</td>\n",
       "      <td>447.570007</td>\n",
       "      <td>79236300</td>\n",
       "      <td>441.626603</td>\n",
       "    </tr>\n",
       "  </tbody>\n",
       "</table>\n",
       "<p>4852 rows × 7 columns</p>\n",
       "</div>"
      ],
      "text/plain": [
       "                  Open        High         Low       Close   Adj Close  \\\n",
       "Date                                                                     \n",
       "2003-01-02   88.849998   91.300003   88.540001   91.070000   62.859005   \n",
       "2003-01-03   90.910004   91.379997   90.500000   91.349998   63.052292   \n",
       "2003-01-06   91.239998   93.489998   91.169998   92.959999   64.163544   \n",
       "2003-01-07   92.900002   93.370003   92.199997   92.730003   64.004799   \n",
       "2003-01-08   92.199997   92.400002   91.050003   91.389999   63.079903   \n",
       "...                ...         ...         ...         ...         ...   \n",
       "2022-04-04  453.130005  456.910004  452.260010  456.799988  456.799988   \n",
       "2022-04-05  455.220001  457.829987  449.820007  451.029999  451.029999   \n",
       "2022-04-06  446.890015  448.929993  443.470001  446.519989  446.519989   \n",
       "2022-04-07  445.589996  450.690002  443.529999  448.769989  448.769989   \n",
       "2022-04-08  447.970001  450.630005  445.940002  447.570007  447.570007   \n",
       "\n",
       "               Volume         SMA  \n",
       "Date                               \n",
       "2003-01-02   44516300   90.653400  \n",
       "2003-01-03   32222600   90.690000  \n",
       "2003-01-06   40984500   90.745200  \n",
       "2003-01-07   38640400   90.832600  \n",
       "2003-01-08   38702200   90.856400  \n",
       "...               ...         ...  \n",
       "2022-04-04   59601000  440.527403  \n",
       "2022-04-05   74214500  440.751203  \n",
       "2022-04-06  106898000  440.992203  \n",
       "2022-04-07   78097200  441.300002  \n",
       "2022-04-08   79236300  441.626603  \n",
       "\n",
       "[4852 rows x 7 columns]"
      ]
     },
     "execution_count": 9,
     "metadata": {},
     "output_type": "execute_result"
    }
   ],
   "source": [
    "# Filter out the NA rows and rows before the desired start date\n",
    "tickerData = tickerData[tickerData.index >= pd.to_datetime(startDate)]\n",
    "tickerData.dropna()"
   ]
  },
  {
   "cell_type": "code",
   "execution_count": 10,
   "metadata": {},
   "outputs": [
    {
     "name": "stderr",
     "output_type": "stream",
     "text": [
      "/tmp/ipykernel_19435/2301272541.py:2: SettingWithCopyWarning: \n",
      "A value is trying to be set on a copy of a slice from a DataFrame.\n",
      "Try using .loc[row_indexer,col_indexer] = value instead\n",
      "\n",
      "See the caveats in the documentation: https://pandas.pydata.org/pandas-docs/stable/user_guide/indexing.html#returning-a-view-versus-a-copy\n",
      "  tickerData['Entry'] = 0\n",
      "/tmp/ipykernel_19435/2301272541.py:7: SettingWithCopyWarning: \n",
      "A value is trying to be set on a copy of a slice from a DataFrame\n",
      "\n",
      "See the caveats in the documentation: https://pandas.pydata.org/pandas-docs/stable/user_guide/indexing.html#returning-a-view-versus-a-copy\n",
      "  tickerData['Entry'][i] = 1\n",
      "/tmp/ipykernel_19435/2301272541.py:16: SettingWithCopyWarning: \n",
      "A value is trying to be set on a copy of a slice from a DataFrame\n",
      "\n",
      "See the caveats in the documentation: https://pandas.pydata.org/pandas-docs/stable/user_guide/indexing.html#returning-a-view-versus-a-copy\n",
      "  tickerData['Entry'][i] = 2\n"
     ]
    }
   ],
   "source": [
    "# Flag buy/sell signals (1 = Buy to Open, 2 = Sell to Close)\n",
    "tickerData['Entry'] = 0\n",
    "i = 0\n",
    "\n",
    "while i <= tickerData.shape[0] - 1:\n",
    "    if tickerData['Close'][i] > tickerData['SMA'][i]:\n",
    "        tickerData['Entry'][i] = 1\n",
    "        \n",
    "        if i + 1 <= tickerData.shape[0] - 1:\n",
    "            i = i + 1\n",
    "        else:\n",
    "            break\n",
    "        \n",
    "        while True:\n",
    "            if tickerData['Close'][i] < tickerData['SMA'][i]:\n",
    "                tickerData['Entry'][i] = 2\n",
    "                break\n",
    "            else:\n",
    "                if i + 1 <= tickerData.shape[0] - 1:\n",
    "                    i = i + 1\n",
    "                else:\n",
    "                    break\n",
    "    if i + 1 <= tickerData.shape[0] - 1:\n",
    "        i = i + 1\n",
    "    else:\n",
    "        break\n"
   ]
  },
  {
   "cell_type": "code",
   "execution_count": 11,
   "metadata": {},
   "outputs": [],
   "source": [
    "# Calculate profits\n",
    "i = 0\n",
    "buyTemp = 0.0\n",
    "sellTemp = 0.0\n",
    "profitList = list()\n",
    "\n",
    "while i <= tickerData.shape[0] - 1:\n",
    "    if tickerData['Entry'][i] == 1:\n",
    "        buyTemp = tickerData['Close'][i]\n",
    "        \n",
    "        if i + 1 <= tickerData.shape[0] - 1:\n",
    "            i = i + 1\n",
    "        else:\n",
    "            break\n",
    "        \n",
    "        while True:\n",
    "            if tickerData['Entry'][i] == 2:\n",
    "                sellTemp = tickerData['Close'][i]\n",
    "                profitList.append((sellTemp - buyTemp)*100/buyTemp)\n",
    "                break\n",
    "            else:\n",
    "                if i + 1 <= tickerData.shape[0] - 1:\n",
    "                    i = i + 1\n",
    "                else:\n",
    "                    break\n",
    "    if i + 1 <= tickerData.shape[0] - 1:\n",
    "        i = i + 1\n",
    "    else:\n",
    "        break\n"
   ]
  },
  {
   "cell_type": "code",
   "execution_count": 60,
   "metadata": {},
   "outputs": [
    {
     "name": "stdout",
     "output_type": "stream",
     "text": [
      "\n",
      " SMA Crossing Test \n",
      " \n",
      " Sum:\t\t\t 92.9245 % \n",
      " UL P/L:\t\t 146.8309 % \n",
      " Mean:\t\t\t 0.5403 % \n",
      " StdDev:\t\t 3.6866 % \n",
      " Median:\t\t -0.5611 % \n",
      " Min:\t\t\t -4.1717 % \n",
      " Max:\t\t\t 19.8045 % \n",
      " Kurtosis:\t\t 7.5281 % \n",
      " \n",
      " Win Freq:\t\t 28.4884 % \n",
      " Lose Freq:\t\t 71.5116 % \n",
      " Sample Size:\t\t 172\n"
     ]
    }
   ],
   "source": [
    "# Print results\n",
    "print(\"\\n\", \"SMA Crossing Test\",\n",
    "      \"\\n\",\n",
    "      \"\\n Sum:\\t\\t\\t\", round(sum(profitList), 4), \"%\",\n",
    "      \"\\n UL P/L:\\t\\t\", round((profitList[len(profitList) - 1] - profitList[0])*100 / profitList[0], 4), \"%\",\n",
    "      \"\\n Mean:\\t\\t\\t\", round(mean(profitList), 4), \"%\",\n",
    "      \"\\n StdDev:\\t\\t\", round(stdev(profitList), 4), \"%\",\n",
    "      \"\\n Median:\\t\\t\", round(median(profitList), 4), \"%\",\n",
    "      \"\\n Min:\\t\\t\\t\", round(min(profitList), 4), \"%\",\n",
    "      \"\\n Max:\\t\\t\\t\", round(max(profitList), 4), \"%\",\n",
    "      \"\\n Kurtosis:\\t\\t\", round(kurtosis(profitList), 4), \"%\",\n",
    "      \"\\n\",\n",
    "      \"\\n Win Freq:\\t\\t\", round(len([x for x in profitList if x > 0])*100 / len(profitList), 4), \"%\",\n",
    "      \"\\n Lose Freq:\\t\\t\", round(len([x for x in profitList if x < 0])*100 / len(profitList), 4), \"%\",\n",
    "      \"\\n Sample Size:\\t\\t\", len(profitList))"
   ]
  },
  {
   "cell_type": "code",
   "execution_count": 74,
   "metadata": {},
   "outputs": [
    {
     "data": {
      "text/plain": [
       "Text(0.5, 0, 'Return (%)')"
      ]
     },
     "execution_count": 74,
     "metadata": {},
     "output_type": "execute_result"
    },
    {
     "data": {
      "image/png": "[encoded data removed]",
      "text/plain": [
       "<Figure size 432x288 with 1 Axes>"
      ]
     },
     "metadata": {},
     "output_type": "display_data"
    }
   ],
   "source": [
    "# Plot a histogram of returns\n",
    "plt.style.use(\"ggplot\")\n",
    "plt.hist(profitList, bins = 30, edgecolor = 'white', color = 'dimgrey')\n",
    "plt.title(\"Returns Distribution\")\n",
    "plt.xlabel(\"Return (%)\")"
   ]
  },
  {
   "cell_type": "code",
   "execution_count": null,
   "metadata": {},
   "outputs": [],
   "source": []
  }
 ],
 "metadata": {
  "interpreter": {
   "hash": "916dbcbb3f70747c44a77c7bcd40155683ae19c65e1c03b4aa3499c5328201f1"
  },
  "kernelspec": {
   "display_name": "Python 3.8.10 64-bit",
   "language": "python",
   "name": "python3"
  },
  "language_info": {
   "codemirror_mode": {
    "name": "ipython",
    "version": 3
   },
   "file_extension": ".py",
   "mimetype": "text/x-python",
   "name": "python",
   "nbconvert_exporter": "python",
   "pygments_lexer": "ipython3",
   "version": "3.8.10"
  },
  "orig_nbformat": 4
 },
 "nbformat": 4,
 "nbformat_minor": 2
}
